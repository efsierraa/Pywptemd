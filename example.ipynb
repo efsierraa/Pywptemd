{
    "cells": [
        {
            "cell_type": "code",
            "execution_count": null,
            "source": [
                "import matplotlib.pyplot as plt\n",
                "import numpy as np\n",
                "from Pywptemd.wptemd import wptemd\n",
                "\n",
                "fs = 500\n",
                "data = np.random.randn(19,6*fs)\n",
                "data_rest = np.random.randn(19,6*fs)*.25\n",
                "\n",
                "parameters = {'wavelet':'dmey', 'maxlevel':7, # wavelet parameters\n",
                "'imf_opts':{'stop_method':'rilling', 'rilling_thresh':(0.05, 0.5, 0.05)}, # emd parameters\n",
                "'w':0.5, # emd selection criterion J parameter\n",
                "'n_components':19} # ICA parameter\n",
                "filter = wptemd(**parameters)\n",
                "\n",
                "wpt_filtered = filter._wpt_filter(data)\n",
                "print(wpt_filtered.shape)\n",
                "\n",
                "data_filtered_wptemd = filter.wptemd_filter(data, data_rest)\n",
                "print(data_filtered_wptemd.shape)\n",
                "\n",
                "data_filtered_wtpica = filter.wptica_filter(data)\n",
                "print(data_filtered_wtpica.shape)"
            ],
            "outputs": [],
            "metadata": {}
        }
    ],
    "metadata": {
        "orig_nbformat": 4,
        "language_info": {
            "name": "python",
            "version": "3.9.5",
            "mimetype": "text/x-python",
            "codemirror_mode": {
                "name": "ipython",
                "version": 3
            },
            "pygments_lexer": "ipython3",
            "nbconvert_exporter": "python",
            "file_extension": ".py"
        },
        "kernelspec": {
            "name": "python3",
            "display_name": "Python 3.9.5 64-bit ('wptemd-ezWByCcC-py3.9': poetry)"
        },
        "interpreter": {
            "hash": "2a2bcd9931e36380b1cc1e0432f5100bc3fc948832031ca6ad0c974b53cedfa5"
        }
    },
    "nbformat": 4,
    "nbformat_minor": 2
}