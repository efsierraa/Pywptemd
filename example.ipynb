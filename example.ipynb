{
    "cells": [
        {
            "cell_type": "code",
            "execution_count": 6,
            "metadata": {},
            "outputs": [
                {
                    "name": "stdout",
                    "output_type": "stream",
                    "text": [
                        "(19, 3000)\n",
                        "(19, 3000)\n",
                        "(19, 3000)\n"
                    ]
                },
                {
                    "name": "stderr",
                    "output_type": "stream",
                    "text": [
                        "/home/gedar/.cache/pypoetry/virtualenvs/wptemd-ezWByCcC-py3.9/lib/python3.9/site-packages/sklearn/decomposition/_fastica.py:118: ConvergenceWarning: FastICA did not converge. Consider increasing tolerance or the maximum number of iterations.\n",
                        "  warnings.warn('FastICA did not converge. Consider increasing '\n"
                    ]
                }
            ],
            "source": [
                "import numpy as np\n",
                "from Pywptemd.wptemd import wptemd\n",
                "\n",
                "fs = 500\n",
                "data = np.random.randn(19,6*fs)\n",
                "data_rest = np.random.randn(19,6*fs)*.25\n",
                "\n",
                "parameters = {'wavelet':'dmey', 'maxlevel':7, # wavelet parameters\n",
                "'imf_opts':{'stop_method':'rilling', 'rilling_thresh':(0.05, 0.5, 0.05)}, # emd parameters\n",
                "'w':0.5, # emd selection criterion J parameter\n",
                "'n_components':19} # ICA parameter\n",
                "filter = wptemd(**parameters)\n",
                "\n",
                "wpt_filtered = filter._wpt_filter(data)\n",
                "print(wpt_filtered.shape)\n",
                "\n",
                "data_filtered_wptemd = filter.wptemd_filter(data, data_rest)\n",
                "print(data_filtered_wptemd.shape)\n",
                "\n",
                "data_filtered_wtpica = filter.wptica_filter(data)\n",
                "print(data_filtered_wtpica.shape)"
            ]
        }
    ],
    "metadata": {
        "interpreter": {
            "hash": "56b5b1a93f726b170e8ee1bc256f514091686d32eebad3ba5ec0f5b151e56c03"
        },
        "kernelspec": {
            "display_name": "Python 3.9.7 64-bit ('wptemd-ezWByCcC-py3.9': poetry)",
            "name": "python3"
        },
        "language_info": {
            "codemirror_mode": {
                "name": "ipython",
                "version": 3
            },
            "file_extension": ".py",
            "mimetype": "text/x-python",
            "name": "python",
            "nbconvert_exporter": "python",
            "pygments_lexer": "ipython3",
            "version": "3.9.7"
        },
        "orig_nbformat": 4
    },
    "nbformat": 4,
    "nbformat_minor": 2
}
